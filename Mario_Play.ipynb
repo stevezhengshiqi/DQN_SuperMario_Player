{
 "cells": [
  {
   "cell_type": "code",
   "execution_count": 1,
   "metadata": {
    "colab": {
     "base_uri": "https://localhost:8080/"
    },
    "executionInfo": {
     "elapsed": 570,
     "status": "ok",
     "timestamp": 1606834681756,
     "user": {
      "displayName": "T Lei",
      "photoUrl": "https://lh3.googleusercontent.com/a-/AOh14Gj8r3NKQ8rlZ5Wpd3qK9RlB-6AAoNbyGhplqh6NOw=s64",
      "userId": "12262433605380806472"
     },
     "user_tz": 300
    },
    "id": "FA1Y5VCv20XZ",
    "outputId": "12ef8e61-a38c-4ef5-b88c-d0044cebeef6"
   },
   "outputs": [],
   "source": [
    "import random\n",
    "import numpy as np\n",
    "from collections import deque\n",
    "\n",
    "import torch\n",
    "import torch.nn as nn\n",
    "import torch.autograd as autograd\n",
    "import torch.nn.functional as F\n",
    "import torch.optim as optim\n",
    "from torchsummary import summary\n",
    "import gym\n",
    "import math\n",
    "from itertools import count\n",
    "import time\n",
    "import sys\n",
    "import collections\n",
    "from torch.utils.tensorboard import SummaryWriter\n",
    "from nes_py.wrappers import JoypadSpace\n",
    "import gym_super_mario_bros\n",
    "from gym_super_mario_bros.actions import COMPLEX_MOVEMENT,SIMPLE_MOVEMENT\n",
    "\n",
    "import matplotlib.pyplot as plt\n"
   ]
  },
  {
   "cell_type": "code",
   "execution_count": 2,
   "metadata": {},
   "outputs": [],
   "source": [
    "# !pip install gym_super_mario_bros"
   ]
  },
  {
   "cell_type": "code",
   "execution_count": 3,
   "metadata": {
    "colab": {
     "base_uri": "https://localhost:8080/"
    },
    "executionInfo": {
     "elapsed": 770,
     "status": "ok",
     "timestamp": 1606834690005,
     "user": {
      "displayName": "T Lei",
      "photoUrl": "https://lh3.googleusercontent.com/a-/AOh14Gj8r3NKQ8rlZ5Wpd3qK9RlB-6AAoNbyGhplqh6NOw=s64",
      "userId": "12262433605380806472"
     },
     "user_tz": 300
    },
    "id": "krW2sJVMo0Nw",
    "outputId": "39f6f24e-4ebf-4292-f249-b39240e081fc"
   },
   "outputs": [
    {
     "name": "stdout",
     "output_type": "stream",
     "text": [
      "Box(0, 255, (240, 256, 3), uint8)\n"
     ]
    }
   ],
   "source": [
    "env = gym_super_mario_bros.make('SuperMarioBros-v0')\n",
    "\n",
    "env = JoypadSpace(env, COMPLEX_MOVEMENT)\n",
    "print(env.observation_space)"
   ]
  },
  {
   "cell_type": "markdown",
   "metadata": {
    "id": "ZzcdmzIL5EMI"
   },
   "source": [
    "\n",
    "Type of hardware accelerator provided by Colab"
   ]
  },
  {
   "cell_type": "code",
   "execution_count": 4,
   "metadata": {
    "colab": {
     "base_uri": "https://localhost:8080/"
    },
    "executionInfo": {
     "elapsed": 788,
     "status": "ok",
     "timestamp": 1606834692154,
     "user": {
      "displayName": "T Lei",
      "photoUrl": "https://lh3.googleusercontent.com/a-/AOh14Gj8r3NKQ8rlZ5Wpd3qK9RlB-6AAoNbyGhplqh6NOw=s64",
      "userId": "12262433605380806472"
     },
     "user_tz": 300
    },
    "id": "VjUM99rEKFNt",
    "outputId": "9f2d0640-fd57-4c41-cfa1-93b4fd424b60"
   },
   "outputs": [
    {
     "name": "stdout",
     "output_type": "stream",
     "text": [
      "zsh:1: command not found: nvidia-smi\r\n"
     ]
    }
   ],
   "source": [
    "!nvidia-smi "
   ]
  },
  {
   "cell_type": "code",
   "execution_count": 5,
   "metadata": {
    "executionInfo": {
     "elapsed": 655,
     "status": "ok",
     "timestamp": 1606834694768,
     "user": {
      "displayName": "T Lei",
      "photoUrl": "https://lh3.googleusercontent.com/a-/AOh14Gj8r3NKQ8rlZ5Wpd3qK9RlB-6AAoNbyGhplqh6NOw=s64",
      "userId": "12262433605380806472"
     },
     "user_tz": 300
    },
    "id": "nPi1lHINMuSu"
   },
   "outputs": [],
   "source": [
    "# Taken from with modfication (float  -> uint8  for memory efficiency)\n",
    "# https://github.com/PacktPublishing/Deep-Reinforcement-Learning-Hands-On/blob/master/Chapter06/lib/wrappers.py\n",
    "\n",
    "\n",
    "import cv2\n",
    "import numpy as np\n",
    "import collections\n",
    "\n",
    "\n",
    "class MaxAndSkipEnv(gym.Wrapper):\n",
    "    def __init__(self, env=None, skip=4):\n",
    "        super(MaxAndSkipEnv, self).__init__(env)\n",
    "        # most recent raw observations (for max pooling across time steps)\n",
    "        self._obs_buffer = collections.deque(maxlen=2)\n",
    "        self._skip = skip\n",
    "\n",
    "    def step(self, action):\n",
    "        total_reward = 0.0\n",
    "        done = None\n",
    "        for _ in range(self._skip):\n",
    "            obs, reward, done, info = self.env.step(action)\n",
    "            self._obs_buffer.append(obs)\n",
    "            total_reward += reward\n",
    "            if done:\n",
    "                break\n",
    "        max_frame = np.max(np.stack(self._obs_buffer), axis=0)\n",
    "        return max_frame, total_reward, done, info\n",
    "\n",
    "    def reset(self):\n",
    "        self._obs_buffer.clear()\n",
    "        obs = self.env.reset()\n",
    "        self._obs_buffer.append(obs)\n",
    "        return obs\n",
    "\n",
    "\n",
    "class ProcessFrame128(gym.ObservationWrapper):\n",
    "    def __init__(self, env=None):\n",
    "        super(ProcessFrame128, self).__init__(env)\n",
    "        self.observation_space = gym.spaces.Box(low=0, high=255, shape=(128, 128, 1), dtype=np.uint8)\n",
    "\n",
    "    def observation(self, obs):\n",
    "        return ProcessFrame128.process(obs)\n",
    "\n",
    "    @staticmethod\n",
    "    def process(frame):\n",
    "        if frame.size == 240 * 256 * 3:\n",
    "            img = np.reshape(frame, [240, 256, 3]).astype(np.float32)\n",
    "        else:\n",
    "            assert False, \"Unknown resolution.\"\n",
    "        img = img[:, :, 0] * 0.299 + img[:, :, 1] * 0.587 + img[:, :, 2] * 0.114\n",
    "        resized_screen = cv2.resize(img, (128, 128), interpolation=cv2.INTER_AREA)\n",
    "        x_t = np.reshape(resized_screen, [128, 128, 1])\n",
    "        return x_t.astype(np.uint8)\n",
    "\n",
    "class BufferWrapper(gym.ObservationWrapper):\n",
    "    # def __init__(self, env, n_steps, dtype=np.float32):\n",
    "    def __init__(self, env, n_steps, dtype=np.uint8):\n",
    "        super(BufferWrapper, self).__init__(env)\n",
    "        self.dtype = dtype\n",
    "        old_space = env.observation_space\n",
    "        self.observation_space = gym.spaces.Box(old_space.low.repeat(n_steps, axis=0),\n",
    "                                                old_space.high.repeat(n_steps, axis=0), dtype=dtype)\n",
    "\n",
    "    def reset(self):\n",
    "        self.buffer = np.zeros_like(self.observation_space.low, dtype=self.dtype)\n",
    "        return self.observation(self.env.reset())\n",
    "\n",
    "    def observation(self, observation):\n",
    "        self.buffer[:-1] = self.buffer[1:]\n",
    "        self.buffer[-1] = observation\n",
    "        return self.buffer\n",
    "\n",
    "\n",
    "class ImageToPyTorch(gym.ObservationWrapper):\n",
    "    def __init__(self, env):\n",
    "        super(ImageToPyTorch, self).__init__(env)\n",
    "        old_shape = self.observation_space.shape\n",
    "        self.observation_space = gym.spaces.Box(low=0, high=255, shape=(old_shape[-1], \n",
    "                                old_shape[0], old_shape[1]), dtype=np.uint8)\n",
    "        # self.observation_space = gym.spaces.Box(low=0.0, high=1.0, shape=(old_shape[-1], \n",
    "        #                         old_shape[0], old_shape[1]), dtype=np.float32)        \n",
    "\n",
    "    def observation(self, observation):\n",
    "        return np.moveaxis(observation, 2, 0)\n",
    "\n",
    "\n",
    "class ScaledFloatFrame(gym.ObservationWrapper):\n",
    "    def observation(self, obs):\n",
    "        return np.array(obs).astype(np.uint8) \n",
    "\n",
    "def wrap_env(env):\n",
    "    env = MaxAndSkipEnv(env)\n",
    "    env = ProcessFrame128(env)\n",
    "    env = ImageToPyTorch(env)\n",
    "    env = BufferWrapper(env, 4)\n",
    "    return ScaledFloatFrame(env)\n",
    "   "
   ]
  },
  {
   "cell_type": "code",
   "execution_count": 6,
   "metadata": {
    "colab": {
     "base_uri": "https://localhost:8080/",
     "height": 302
    },
    "executionInfo": {
     "elapsed": 1048,
     "status": "ok",
     "timestamp": 1606834706079,
     "user": {
      "displayName": "T Lei",
      "photoUrl": "https://lh3.googleusercontent.com/a-/AOh14Gj8r3NKQ8rlZ5Wpd3qK9RlB-6AAoNbyGhplqh6NOw=s64",
      "userId": "12262433605380806472"
     },
     "user_tz": 300
    },
    "id": "8Ag1LpY8qKCa",
    "outputId": "30f91563-8bfb-4f08-aa6c-a2086c82e0f7"
   },
   "outputs": [
    {
     "name": "stdout",
     "output_type": "stream",
     "text": [
      "Box(0, 255, (4, 128, 128), uint8)\n",
      "Discrete(12)\n"
     ]
    },
    {
     "data": {
      "image/png": "[encoded data removed]",
      "text/plain": [
       "<Figure size 432x288 with 1 Axes>"
      ]
     },
     "metadata": {
      "needs_background": "light"
     },
     "output_type": "display_data"
    }
   ],
   "source": [
    "t_env = gym_super_mario_bros.make('SuperMarioBros-v0')\n",
    "\n",
    "t_env = JoypadSpace(t_env, COMPLEX_MOVEMENT)\n",
    "t_env = wrap_env(t_env)\n",
    "fr = t_env.reset()\n",
    "plt.imshow(fr[3,:,:], cmap = \"Greys\")\n",
    "print(t_env.observation_space)\n",
    "print(t_env.action_space)"
   ]
  },
  {
   "cell_type": "code",
   "execution_count": 7,
   "metadata": {
    "executionInfo": {
     "elapsed": 651,
     "status": "ok",
     "timestamp": 1606834711391,
     "user": {
      "displayName": "T Lei",
      "photoUrl": "https://lh3.googleusercontent.com/a-/AOh14Gj8r3NKQ8rlZ5Wpd3qK9RlB-6AAoNbyGhplqh6NOw=s64",
      "userId": "12262433605380806472"
     },
     "user_tz": 300
    },
    "id": "N4S1I9xWMkf3"
   },
   "outputs": [],
   "source": [
    "# Experience replay buffer\n",
    "Experience = collections.namedtuple('Experience', field_names=['state', 'action', 'reward', 'new_state', 'done'])\n",
    "\n",
    "class ExpBuffer:\n",
    "    def __init__(self, max_size):\n",
    "        self.max_size = max_size\n",
    "        self.buffer = deque(maxlen=max_size)\n",
    "\n",
    "    def __len__(self):\n",
    "        return len(self.buffer)\n",
    "    \n",
    "    def push(self, experience):\n",
    "        self.buffer.append(experience)\n",
    "\n",
    "    def sample(self, batch_size):\n",
    "        idxs = np.random.choice(len(self.buffer), batch_size, replace=False)\n",
    "        states, actions, rewards, next_states, dones = zip(*[self.buffer[i] for i in idxs])\n",
    "        return np.array(states), np.array(actions), np.array(rewards), np.array(next_states), np.array(dones)\n"
   ]
  },
  {
   "cell_type": "code",
   "execution_count": 8,
   "metadata": {
    "executionInfo": {
     "elapsed": 571,
     "status": "ok",
     "timestamp": 1606834713573,
     "user": {
      "displayName": "T Lei",
      "photoUrl": "https://lh3.googleusercontent.com/a-/AOh14Gj8r3NKQ8rlZ5Wpd3qK9RlB-6AAoNbyGhplqh6NOw=s64",
      "userId": "12262433605380806472"
     },
     "user_tz": 300
    },
    "id": "taYi5LZnIOqz"
   },
   "outputs": [],
   "source": [
    "\n",
    "class DQN(nn.Module):\n",
    "    def __init__(self, input_shape, n_actions):\n",
    "        super(DQN, self).__init__()\n",
    "\n",
    "        self.conv = nn.Sequential(\n",
    "            nn.Conv2d(input_shape[0], 32, kernel_size=8, stride=4),\n",
    "            nn.ReLU(),\n",
    "            nn.Conv2d(32, 64, kernel_size=4, stride=2),\n",
    "            nn.ReLU(),\n",
    "            nn.Conv2d(64, 64, kernel_size=3, stride=1),\n",
    "            nn.ReLU()\n",
    "        )\n",
    "\n",
    "        conv_out_size = self._get_conv_out(input_shape)\n",
    "        self.fc = nn.Sequential(\n",
    "            nn.Linear(conv_out_size, 512),\n",
    "            nn.ReLU(),\n",
    "            nn.Linear(512, n_actions)\n",
    "        )\n",
    "\n",
    "    def _get_conv_out(self, shape):\n",
    "        o = self.conv(torch.zeros(1, *shape))\n",
    "        return int(np.prod(o.size()))\n",
    "\n",
    "    def forward(self, x):\n",
    "        conv_out = self.conv(x).view(x.size()[0], -1)\n",
    "        return self.fc(conv_out)"
   ]
  },
  {
   "cell_type": "code",
   "execution_count": 9,
   "metadata": {
    "colab": {
     "base_uri": "https://localhost:8080/"
    },
    "executionInfo": {
     "elapsed": 563,
     "status": "ok",
     "timestamp": 1606834716948,
     "user": {
      "displayName": "T Lei",
      "photoUrl": "https://lh3.googleusercontent.com/a-/AOh14Gj8r3NKQ8rlZ5Wpd3qK9RlB-6AAoNbyGhplqh6NOw=s64",
      "userId": "12262433605380806472"
     },
     "user_tz": 300
    },
    "id": "jUZOyWrpra9z",
    "outputId": "5f65fb2a-a778-416f-8ba5-3dbc981eaf17"
   },
   "outputs": [
    {
     "name": "stdout",
     "output_type": "stream",
     "text": [
      "Box(0, 255, (4, 128, 128), uint8)\n",
      "----------------------------------------------------------------\n",
      "        Layer (type)               Output Shape         Param #\n",
      "================================================================\n",
      "            Conv2d-1           [-1, 32, 31, 31]           8,224\n",
      "              ReLU-2           [-1, 32, 31, 31]               0\n",
      "            Conv2d-3           [-1, 64, 14, 14]          32,832\n",
      "              ReLU-4           [-1, 64, 14, 14]               0\n",
      "            Conv2d-5           [-1, 64, 12, 12]          36,928\n",
      "              ReLU-6           [-1, 64, 12, 12]               0\n",
      "            Linear-7                  [-1, 512]       4,719,104\n",
      "              ReLU-8                  [-1, 512]               0\n",
      "            Linear-9                   [-1, 12]           6,156\n",
      "================================================================\n",
      "Total params: 4,803,244\n",
      "Trainable params: 4,803,244\n",
      "Non-trainable params: 0\n",
      "----------------------------------------------------------------\n",
      "Input size (MB): 0.25\n",
      "Forward/backward pass size (MB): 0.81\n",
      "Params size (MB): 18.32\n",
      "Estimated Total Size (MB): 19.38\n",
      "----------------------------------------------------------------\n"
     ]
    }
   ],
   "source": [
    "t_env.reset()\n",
    "print(t_env.observation_space)\n",
    "\n",
    "net = DQN(t_env.observation_space.shape, t_env.action_space.n )\n",
    "\n",
    "summary(net, input_size=t_env.observation_space.shape,  device=\"cpu\")"
   ]
  },
  {
   "cell_type": "code",
   "execution_count": null,
   "metadata": {
    "id": "d-vtBmLyAH5-"
   },
   "outputs": [],
   "source": []
  },
  {
   "cell_type": "code",
   "execution_count": 10,
   "metadata": {
    "executionInfo": {
     "elapsed": 690,
     "status": "ok",
     "timestamp": 1606834721822,
     "user": {
      "displayName": "T Lei",
      "photoUrl": "https://lh3.googleusercontent.com/a-/AOh14Gj8r3NKQ8rlZ5Wpd3qK9RlB-6AAoNbyGhplqh6NOw=s64",
      "userId": "12262433605380806472"
     },
     "user_tz": 300
    },
    "id": "BCBQhXLfNeUG"
   },
   "outputs": [],
   "source": [
    "\n",
    "class DQNAgent:\n",
    "    \n",
    "    def __init__(self, env, buffer_size=100000):\n",
    "        self.env = env\n",
    "        self.replay_buffer = ExpBuffer(max_size=buffer_size)\n",
    "        self.reset()\n",
    "        self.device = \"cpu\"\n",
    "        if torch.cuda.is_available():\n",
    "            self.device = \"cuda\"\n",
    "\n",
    "        self.model = DQN(env.observation_space.shape, env.action_space.n).to(self.device)\n",
    "        self.target_model = DQN(env.observation_space.shape, env.action_space.n).to(self.device)\n",
    "        self.target_model.load_state_dict(self.model.state_dict())\n",
    "        self.target_model.eval()\n",
    "        # self.optimizer = torch.optim.RMSprop(self.model.parameters(), lr = 1e-4 )\n",
    "        self.optimizer = optim.Adam(self.model.parameters(), lr=0.00025)\n",
    "\n",
    "        self.loss_func =  nn.SmoothL1Loss()\n",
    "    \n",
    "    def reset(self):\n",
    "        self.total_reward = 0.0\n",
    "        self.state = self.env.reset()\n",
    "        \n",
    "    def play(self, eps):\n",
    "        # random sample action\n",
    "        action = 0\n",
    "        if(np.random.random() < eps):\n",
    "            action = self.env.action_space.sample()\n",
    "        # choose action with highest Q value\n",
    "        else:\n",
    "            state_tensor = torch.FloatTensor(self.state.astype(np.float32) / 255.0).unsqueeze(0).to(self.device)\n",
    "            # state_tensor = torch.FloatTensor(self.state).unsqueeze(0).to(self.device)\n",
    "            qvals_tensor = self.model(state_tensor)\n",
    "            action = int(np.argmax(qvals_tensor.cpu().detach().numpy()))\n",
    "        next_state, reward, done, _ = self.env.step(action)\n",
    "        experience = Experience(self.state, action, reward, next_state, done)\n",
    "        # total_size = sys.getsizeof(experience) + sys.getsizeof(self.state)+ sys.getsizeof(action)+ sys.getsizeof(reward)+ sys.getsizeof(next_state) +  sys.getsizeof(done)\n",
    "        # print(self.state.dtype)\n",
    "        # print(self.state.shape)\n",
    "        # print(\"exp size: \" + str(sys.getsizeof(self.state)))\n",
    "        self.replay_buffer.push(experience)\n",
    "        self.state = next_state\n",
    "        self.total_reward += reward\n",
    "        if(done):\n",
    "            res_reward = self.total_reward\n",
    "            self.reset()\n",
    "            return res_reward\n",
    "        else:\n",
    "            return None\n",
    "    \n",
    "    def copy_to_target(self):\n",
    "        print(\"Copying to target\")\n",
    "        self.target_model.load_state_dict(self.model.state_dict())"
   ]
  },
  {
   "cell_type": "code",
   "execution_count": 15,
   "metadata": {
    "id": "HEAmkFRs0Q3T",
    "scrolled": true
   },
   "outputs": [
    {
     "name": "stdout",
     "output_type": "stream",
     "text": [
      "3063.0\n"
     ]
    }
   ],
   "source": [
    "t_env = gym_super_mario_bros.make('SuperMarioBros-1-1-v0')\n",
    "\n",
    "t_env = JoypadSpace(t_env, SIMPLE_MOVEMENT)\n",
    "# t_env = JoypadSpace(t_env, COMPLEX_MOVEMENT)\n",
    "play_env = wrap_env(t_env)\n",
    "agent_play = DQNAgent(play_env)\n",
    "done = False\n",
    "# agent_play.model.load_state_dict(torch.load(\"SIMPLE_MOVE_DQN_Mario_snapshot\", map_location=torch.device('cpu')))\n",
    "agent_play.model.load_state_dict(torch.load(\"Local_DQN_Mario_big_4\", map_location=torch.device('cpu')))\n",
    "fps = 30\n",
    "rw = None\n",
    "while(rw is None):\n",
    "    begin_ts = time.time()\n",
    "    rw = agent_play.play(0.00)\n",
    "    play_env.render()\n",
    "    delta = 1/fps - (time.time() - begin_ts)\n",
    "    if(delta > 0):\n",
    "        time.sleep(delta)\n",
    "print(rw)\n",
    "play_env.close()"
   ]
  },
  {
   "cell_type": "code",
   "execution_count": 12,
   "metadata": {},
   "outputs": [],
   "source": [
    "# play_env.close()"
   ]
  },
  {
   "cell_type": "code",
   "execution_count": null,
   "metadata": {},
   "outputs": [],
   "source": []
  }
 ],
 "metadata": {
  "accelerator": "GPU",
  "colab": {
   "collapsed_sections": [],
   "machine_shape": "hm",
   "name": "DQN_Atari_Breakout_uint8.ipynb",
   "provenance": [
    {
     "file_id": "10R0F_QX9RdTegTsdHtmYC88dGNMtAqb_",
     "timestamp": 1606664155707
    }
   ]
  },
  "kernelspec": {
   "display_name": "Python 3",
   "language": "python",
   "name": "python3"
  },
  "language_info": {
   "codemirror_mode": {
    "name": "ipython",
    "version": 3
   },
   "file_extension": ".py",
   "mimetype": "text/x-python",
   "name": "python",
   "nbconvert_exporter": "python",
   "pygments_lexer": "ipython3",
   "version": "3.7.7"
  }
 },
 "nbformat": 4,
 "nbformat_minor": 1
}
